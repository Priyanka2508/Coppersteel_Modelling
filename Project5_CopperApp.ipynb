{
  "nbformat": 4,
  "nbformat_minor": 0,
  "metadata": {
    "colab": {
      "provenance": [],
      "authorship_tag": "ABX9TyPfa1mpTAWnnICVw0tcxktr",
      "include_colab_link": true
    },
    "kernelspec": {
      "name": "python3",
      "display_name": "Python 3"
    },
    "language_info": {
      "name": "python"
    }
  },
  "cells": [
    {
      "cell_type": "markdown",
      "metadata": {
        "id": "view-in-github",
        "colab_type": "text"
      },
      "source": [
        "<a href=\"https://colab.research.google.com/github/Priyanka2508/Coppersteel_Modelling/blob/main/Project5_CopperApp.ipynb\" target=\"_parent\"><img src=\"https://colab.research.google.com/assets/colab-badge.svg\" alt=\"Open In Colab\"/></a>"
      ]
    },
    {
      "cell_type": "code",
      "execution_count": null,
      "metadata": {
        "id": "Iov3_EDmbBvW",
        "colab": {
          "base_uri": "https://localhost:8080/"
        },
        "outputId": "be2312d7-5c36-48b7-a27d-3744ebba6fd7"
      },
      "outputs": [
        {
          "output_type": "stream",
          "name": "stdout",
          "text": [
            "Requirement already satisfied: pandas in /usr/local/lib/python3.10/dist-packages (1.5.3)\n",
            "Requirement already satisfied: python-dateutil>=2.8.1 in /usr/local/lib/python3.10/dist-packages (from pandas) (2.8.2)\n",
            "Requirement already satisfied: pytz>=2020.1 in /usr/local/lib/python3.10/dist-packages (from pandas) (2023.3.post1)\n",
            "Requirement already satisfied: numpy>=1.21.0 in /usr/local/lib/python3.10/dist-packages (from pandas) (1.23.5)\n",
            "Requirement already satisfied: six>=1.5 in /usr/local/lib/python3.10/dist-packages (from python-dateutil>=2.8.1->pandas) (1.16.0)\n",
            "Requirement already satisfied: numpy in /usr/local/lib/python3.10/dist-packages (1.23.5)\n",
            "Collecting sklearn\n",
            "  Downloading sklearn-0.0.post12.tar.gz (2.6 kB)\n",
            "  \u001b[1;31merror\u001b[0m: \u001b[1msubprocess-exited-with-error\u001b[0m\n",
            "  \n",
            "  \u001b[31m×\u001b[0m \u001b[32mpython setup.py egg_info\u001b[0m did not run successfully.\n",
            "  \u001b[31m│\u001b[0m exit code: \u001b[1;36m1\u001b[0m\n",
            "  \u001b[31m╰─>\u001b[0m See above for output.\n",
            "  \n",
            "  \u001b[1;35mnote\u001b[0m: This error originates from a subprocess, and is likely not a problem with pip.\n",
            "  Preparing metadata (setup.py) ... \u001b[?25l\u001b[?25herror\n",
            "\u001b[1;31merror\u001b[0m: \u001b[1mmetadata-generation-failed\u001b[0m\n",
            "\n",
            "\u001b[31m×\u001b[0m Encountered error while generating package metadata.\n",
            "\u001b[31m╰─>\u001b[0m See above for output.\n",
            "\n",
            "\u001b[1;35mnote\u001b[0m: This is an issue with the package mentioned above, not pip.\n",
            "\u001b[1;36mhint\u001b[0m: See above for details.\n",
            "Collecting streamlit\n",
            "  Downloading streamlit-1.29.0-py2.py3-none-any.whl (8.4 MB)\n",
            "\u001b[2K     \u001b[90m━━━━━━━━━━━━━━━━━━━━━━━━━━━━━━━━━━━━━━━━\u001b[0m \u001b[32m8.4/8.4 MB\u001b[0m \u001b[31m14.4 MB/s\u001b[0m eta \u001b[36m0:00:00\u001b[0m\n",
            "\u001b[?25hRequirement already satisfied: altair<6,>=4.0 in /usr/local/lib/python3.10/dist-packages (from streamlit) (4.2.2)\n",
            "Requirement already satisfied: blinker<2,>=1.0.0 in /usr/lib/python3/dist-packages (from streamlit) (1.4)\n",
            "Requirement already satisfied: cachetools<6,>=4.0 in /usr/local/lib/python3.10/dist-packages (from streamlit) (5.3.2)\n",
            "Requirement already satisfied: click<9,>=7.0 in /usr/local/lib/python3.10/dist-packages (from streamlit) (8.1.7)\n",
            "Collecting importlib-metadata<7,>=1.4 (from streamlit)\n",
            "  Downloading importlib_metadata-6.11.0-py3-none-any.whl (23 kB)\n",
            "Requirement already satisfied: numpy<2,>=1.19.3 in /usr/local/lib/python3.10/dist-packages (from streamlit) (1.23.5)\n",
            "Requirement already satisfied: packaging<24,>=16.8 in /usr/local/lib/python3.10/dist-packages (from streamlit) (23.2)\n",
            "Requirement already satisfied: pandas<3,>=1.3.0 in /usr/local/lib/python3.10/dist-packages (from streamlit) (1.5.3)\n",
            "Requirement already satisfied: pillow<11,>=7.1.0 in /usr/local/lib/python3.10/dist-packages (from streamlit) (9.4.0)\n",
            "Requirement already satisfied: protobuf<5,>=3.20 in /usr/local/lib/python3.10/dist-packages (from streamlit) (3.20.3)\n",
            "Requirement already satisfied: pyarrow>=6.0 in /usr/local/lib/python3.10/dist-packages (from streamlit) (10.0.1)\n",
            "Requirement already satisfied: python-dateutil<3,>=2.7.3 in /usr/local/lib/python3.10/dist-packages (from streamlit) (2.8.2)\n",
            "Requirement already satisfied: requests<3,>=2.27 in /usr/local/lib/python3.10/dist-packages (from streamlit) (2.31.0)\n",
            "Requirement already satisfied: rich<14,>=10.14.0 in /usr/local/lib/python3.10/dist-packages (from streamlit) (13.7.0)\n",
            "Requirement already satisfied: tenacity<9,>=8.1.0 in /usr/local/lib/python3.10/dist-packages (from streamlit) (8.2.3)\n",
            "Requirement already satisfied: toml<2,>=0.10.1 in /usr/local/lib/python3.10/dist-packages (from streamlit) (0.10.2)\n",
            "Requirement already satisfied: typing-extensions<5,>=4.3.0 in /usr/local/lib/python3.10/dist-packages (from streamlit) (4.5.0)\n",
            "Requirement already satisfied: tzlocal<6,>=1.1 in /usr/local/lib/python3.10/dist-packages (from streamlit) (5.2)\n",
            "Collecting validators<1,>=0.2 (from streamlit)\n",
            "  Downloading validators-0.22.0-py3-none-any.whl (26 kB)\n",
            "Collecting gitpython!=3.1.19,<4,>=3.0.7 (from streamlit)\n",
            "  Downloading GitPython-3.1.40-py3-none-any.whl (190 kB)\n",
            "\u001b[2K     \u001b[90m━━━━━━━━━━━━━━━━━━━━━━━━━━━━━━━━━━━━━━━━\u001b[0m \u001b[32m190.6/190.6 kB\u001b[0m \u001b[31m17.7 MB/s\u001b[0m eta \u001b[36m0:00:00\u001b[0m\n",
            "\u001b[?25hCollecting pydeck<1,>=0.8.0b4 (from streamlit)\n",
            "  Downloading pydeck-0.8.1b0-py2.py3-none-any.whl (4.8 MB)\n",
            "\u001b[2K     \u001b[90m━━━━━━━━━━━━━━━━━━━━━━━━━━━━━━━━━━━━━━━━\u001b[0m \u001b[32m4.8/4.8 MB\u001b[0m \u001b[31m29.8 MB/s\u001b[0m eta \u001b[36m0:00:00\u001b[0m\n",
            "\u001b[?25hRequirement already satisfied: tornado<7,>=6.0.3 in /usr/local/lib/python3.10/dist-packages (from streamlit) (6.3.2)\n",
            "Collecting watchdog>=2.1.5 (from streamlit)\n",
            "  Downloading watchdog-3.0.0-py3-none-manylinux2014_x86_64.whl (82 kB)\n",
            "\u001b[2K     \u001b[90m━━━━━━━━━━━━━━━━━━━━━━━━━━━━━━━━━━━━━━━━\u001b[0m \u001b[32m82.1/82.1 kB\u001b[0m \u001b[31m8.1 MB/s\u001b[0m eta \u001b[36m0:00:00\u001b[0m\n",
            "\u001b[?25hRequirement already satisfied: entrypoints in /usr/local/lib/python3.10/dist-packages (from altair<6,>=4.0->streamlit) (0.4)\n",
            "Requirement already satisfied: jinja2 in /usr/local/lib/python3.10/dist-packages (from altair<6,>=4.0->streamlit) (3.1.2)\n",
            "Requirement already satisfied: jsonschema>=3.0 in /usr/local/lib/python3.10/dist-packages (from altair<6,>=4.0->streamlit) (4.19.2)\n",
            "Requirement already satisfied: toolz in /usr/local/lib/python3.10/dist-packages (from altair<6,>=4.0->streamlit) (0.12.0)\n",
            "Collecting gitdb<5,>=4.0.1 (from gitpython!=3.1.19,<4,>=3.0.7->streamlit)\n",
            "  Downloading gitdb-4.0.11-py3-none-any.whl (62 kB)\n",
            "\u001b[2K     \u001b[90m━━━━━━━━━━━━━━━━━━━━━━━━━━━━━━━━━━━━━━━━\u001b[0m \u001b[32m62.7/62.7 kB\u001b[0m \u001b[31m3.8 MB/s\u001b[0m eta \u001b[36m0:00:00\u001b[0m\n",
            "\u001b[?25hRequirement already satisfied: zipp>=0.5 in /usr/local/lib/python3.10/dist-packages (from importlib-metadata<7,>=1.4->streamlit) (3.17.0)\n",
            "Requirement already satisfied: pytz>=2020.1 in /usr/local/lib/python3.10/dist-packages (from pandas<3,>=1.3.0->streamlit) (2023.3.post1)\n",
            "Requirement already satisfied: six>=1.5 in /usr/local/lib/python3.10/dist-packages (from python-dateutil<3,>=2.7.3->streamlit) (1.16.0)\n",
            "Requirement already satisfied: charset-normalizer<4,>=2 in /usr/local/lib/python3.10/dist-packages (from requests<3,>=2.27->streamlit) (3.3.2)\n",
            "Requirement already satisfied: idna<4,>=2.5 in /usr/local/lib/python3.10/dist-packages (from requests<3,>=2.27->streamlit) (3.6)\n",
            "Requirement already satisfied: urllib3<3,>=1.21.1 in /usr/local/lib/python3.10/dist-packages (from requests<3,>=2.27->streamlit) (2.0.7)\n",
            "Requirement already satisfied: certifi>=2017.4.17 in /usr/local/lib/python3.10/dist-packages (from requests<3,>=2.27->streamlit) (2023.11.17)\n",
            "Requirement already satisfied: markdown-it-py>=2.2.0 in /usr/local/lib/python3.10/dist-packages (from rich<14,>=10.14.0->streamlit) (3.0.0)\n",
            "Requirement already satisfied: pygments<3.0.0,>=2.13.0 in /usr/local/lib/python3.10/dist-packages (from rich<14,>=10.14.0->streamlit) (2.16.1)\n",
            "Collecting smmap<6,>=3.0.1 (from gitdb<5,>=4.0.1->gitpython!=3.1.19,<4,>=3.0.7->streamlit)\n",
            "  Downloading smmap-5.0.1-py3-none-any.whl (24 kB)\n",
            "Requirement already satisfied: MarkupSafe>=2.0 in /usr/local/lib/python3.10/dist-packages (from jinja2->altair<6,>=4.0->streamlit) (2.1.3)\n",
            "Requirement already satisfied: attrs>=22.2.0 in /usr/local/lib/python3.10/dist-packages (from jsonschema>=3.0->altair<6,>=4.0->streamlit) (23.1.0)\n",
            "Requirement already satisfied: jsonschema-specifications>=2023.03.6 in /usr/local/lib/python3.10/dist-packages (from jsonschema>=3.0->altair<6,>=4.0->streamlit) (2023.11.2)\n",
            "Requirement already satisfied: referencing>=0.28.4 in /usr/local/lib/python3.10/dist-packages (from jsonschema>=3.0->altair<6,>=4.0->streamlit) (0.32.0)\n",
            "Requirement already satisfied: rpds-py>=0.7.1 in /usr/local/lib/python3.10/dist-packages (from jsonschema>=3.0->altair<6,>=4.0->streamlit) (0.15.2)\n",
            "Requirement already satisfied: mdurl~=0.1 in /usr/local/lib/python3.10/dist-packages (from markdown-it-py>=2.2.0->rich<14,>=10.14.0->streamlit) (0.1.2)\n",
            "Installing collected packages: watchdog, validators, smmap, importlib-metadata, pydeck, gitdb, gitpython, streamlit\n",
            "  Attempting uninstall: importlib-metadata\n",
            "    Found existing installation: importlib-metadata 7.0.0\n",
            "    Uninstalling importlib-metadata-7.0.0:\n",
            "      Successfully uninstalled importlib-metadata-7.0.0\n",
            "Successfully installed gitdb-4.0.11 gitpython-3.1.40 importlib-metadata-6.11.0 pydeck-0.8.1b0 smmap-5.0.1 streamlit-1.29.0 validators-0.22.0 watchdog-3.0.0\n"
          ]
        }
      ],
      "source": [
        "!pip install pandas\n",
        "!pip install numpy\n",
        "!pip install sklearn\n",
        "!pip install streamlit"
      ]
    },
    {
      "cell_type": "code",
      "source": [
        "%%writefile modelapp.py\n",
        "\n",
        "import pandas as pd\n",
        "import numpy as np\n",
        "from sklearn.model_selection import train_test_split\n",
        "from sklearn.tree import DecisionTreeRegressor\n",
        "from sklearn.preprocessing import StandardScaler, OneHotEncoder,LabelEncoder\n",
        "from sklearn.metrics import mean_squared_error\n",
        "from sklearn.model_selection import GridSearchCV,RandomizedSearchCV, KFold\n",
        "import streamlit as st\n",
        "import re\n",
        "st.set_page_config(layout=\"wide\")\n",
        "\n",
        "st.title(\"INDUSTRIAL COPPER MODELLING\")\n",
        "\n",
        "\n",
        "tab1, tab2 = st.tabs([\"PREDICT SELLING PRICE\", \"PREDICT STATUS\"])\n",
        "with tab1:\n",
        "\n",
        "\n",
        "        # Define the possible values for the dropdown menus\n",
        "        status_options = ['Won', 'Draft', 'To be approved', 'Lost', 'Not lost for AM', 'Wonderful', 'Revised', 'Offered', 'Offerable']\n",
        "        item_type_options = ['W', 'WI', 'S', 'Others', 'PL', 'IPL', 'SLAWR']\n",
        "        country_options = [28., 25., 30., 32., 38., 78., 27., 77., 113., 79., 26., 39., 40., 84., 80., 107., 89.]\n",
        "        application_options = [10., 41., 28., 59., 15., 4., 38., 56., 42., 26., 27., 19., 20., 66., 29., 22., 40., 25., 67., 79., 3., 99., 2., 5., 39., 69., 70., 65., 58., 68.]\n",
        "        product=['611112', '611728', '628112', '628117', '628377', '640400', '640405', '640665',\n",
        "                     '611993', '929423819', '1282007633', '1332077137', '164141591', '164336407',\n",
        "                     '164337175', '1665572032', '1665572374', '1665584320', '1665584642', '1665584662',\n",
        "                     '1668701376', '1668701698', '1668701718', '1668701725', '1670798778', '1671863738',\n",
        "                     '1671876026', '1690738206', '1690738219', '1693867550', '1693867563', '1721130331', '1722207579']\n",
        "\n",
        "        # Define the widgets for user input\n",
        "        with st.form(\"my_form\"):\n",
        "            col1,col2,col3=st.columns([5,2,5])\n",
        "            with col1:\n",
        "                st.write(' ')\n",
        "                status = st.selectbox(\"Status\", status_options,key=1)\n",
        "                item_type = st.selectbox(\"Item Type\", item_type_options,key=2)\n",
        "                country = st.selectbox(\"Country\", sorted(country_options),key=3)\n",
        "                application = st.selectbox(\"Application\", sorted(application_options),key=4)\n",
        "                product_ref = st.selectbox(\"Product Reference\", product,key=5)\n",
        "            with col3:\n",
        "\n",
        "                quantity_tons = st.text_input(\"Enter Quantity Tons (Min:611728 & Max:1722207579)\")\n",
        "                thickness = st.text_input(\"Enter thickness (Min:0.18 & Max:400)\")\n",
        "                width = st.text_input(\"Enter width (Min:1, Max:2990)\")\n",
        "                customer = st.text_input(\"customer ID (Min:12458, Max:30408185)\")\n",
        "                submit_button = st.form_submit_button(label=\"PREDICT SELLING PRICE\")\n",
        "                st.markdown(\"\"\"\n",
        "                    <style>\n",
        "                    div.stButton > button:first-child {\n",
        "                        background-color: #009999;\n",
        "                        color: white;\n",
        "                        width: 100%;\n",
        "                    }\n",
        "                    </style>\n",
        "                \"\"\", unsafe_allow_html=True)\n",
        "\n",
        "            flag=0\n",
        "            pattern = \"^(?:\\d+|\\d*\\.\\d+)$\"\n",
        "            for i in [quantity_tons,thickness,width,customer]:\n",
        "                if re.match(pattern, i):\n",
        "                    pass\n",
        "                else:\n",
        "                    flag=1\n",
        "                    break\n",
        "\n",
        "        if submit_button and flag==1:\n",
        "            if len(i)==0:\n",
        "                st.write(\"please enter a valid number space not allowed\")\n",
        "            else:\n",
        "                st.write(\"You have entered an invalid value: \",i)\n",
        "\n",
        "        if submit_button and flag==0:\n",
        "\n",
        "            import pickle\n",
        "            with open(r\"model_rf.pkl\", 'rb') as file:\n",
        "                loaded_model = pickle.load(file)\n",
        "            with open(r'scaler.pkl', 'rb') as f:\n",
        "                scaler_loaded = pickle.load(f)\n",
        "\n",
        "            with open(r\"lc_status.pkl\", 'rb') as f:\n",
        "                t_loaded = pickle.load(f)\n",
        "\n",
        "            with open(r\"lc_itemtype.pkl\", 'rb') as f:\n",
        "                s_loaded = pickle.load(f)\n",
        "\n",
        "            new_sample= np.array([[np.log(float(quantity_tons)),application,np.log(float(thickness)),float(width),country,float(customer),int(product_ref),item_type,status]])\n",
        "            new_sample[:, 7] = s_loaded.transform(new_sample[:, 7])\n",
        "            new_sample[:, 8] = t_loaded.transform(new_sample[:, 8])\n",
        "            new_sample1 = scaler_loaded.transform(new_sample)\n",
        "            new_pred = loaded_model.predict(new_sample1)[0]\n",
        "            st.write('## :green[Predicted selling price:] ', np.exp(new_pred))\n",
        "\n",
        "with tab2:\n",
        "\n",
        "        with st.form(\"my_form1\"):\n",
        "            col1,col2,col3=st.columns([5,1,5])\n",
        "            with col1:\n",
        "                cquantity_tons = st.text_input(\"Enter Quantity Tons (Min:611728 & Max:1722207579)\")\n",
        "                cthickness = st.text_input(\"Enter thickness (Min:0.18 & Max:400)\")\n",
        "                cwidth = st.text_input(\"Enter width (Min:1, Max:2990)\")\n",
        "                ccustomer = st.text_input(\"customer ID (Min:12458, Max:30408185)\")\n",
        "                cselling = st.text_input(\"Selling Price (Min:1, Max:100001015)\")\n",
        "\n",
        "            with col3:\n",
        "                st.write(' ')\n",
        "                citem_type = st.selectbox(\"Item Type\", item_type_options,key=21)\n",
        "                ccountry = st.selectbox(\"Country\", sorted(country_options),key=31)\n",
        "                capplication = st.selectbox(\"Application\", sorted(application_options),key=41)\n",
        "                cproduct_ref = st.selectbox(\"Product Reference\", product,key=51)\n",
        "                csubmit_button = st.form_submit_button(label=\"PREDICT STATUS\")\n",
        "\n",
        "            cflag=0\n",
        "            pattern = \"^(?:\\d+|\\d*\\.\\d+)$\"\n",
        "            for k in [cquantity_tons,cthickness,cwidth,ccustomer,cselling]:\n",
        "                if re.match(pattern, k):\n",
        "                    pass\n",
        "                else:\n",
        "                    cflag=1\n",
        "                    break\n",
        "\n",
        "        if csubmit_button and cflag==1:\n",
        "            if len(k)==0:\n",
        "                st.write(\"please enter a valid number space not allowed\")\n",
        "            else:\n",
        "                st.write(\"You have entered an invalid value: \",k)\n",
        "\n",
        "        if csubmit_button and cflag==0:\n",
        "            import pickle\n",
        "            with open(r\"clsmodel.pkl\", 'rb') as file:\n",
        "                cloaded_model = pickle.load(file)\n",
        "\n",
        "            with open(r'cscaler.pkl', 'rb') as f:\n",
        "                cscaler_loaded = pickle.load(f)\n",
        "\n",
        "            with open(r\"cencoder.pkl\", 'rb') as f:\n",
        "                ct_loaded = pickle.load(f)\n",
        "\n",
        "            # Predict the status for a new sample\n",
        "            c_sample = np.array([[np.log(float(cquantity_tons)), np.log(float(cselling)), capplication, np.log(float(cthickness)),float(cwidth),ccountry,int(ccustomer),int(product_ref),citem_type]])\n",
        "            new_sample_ohe = ct_loaded.transform(c_sample[:, [8]]).toarray()\n",
        "            cnew_sample = np.concatenate((c_sample[:, [0,1,2, 3, 4, 5, 6,7,]], new_sample_ohe), axis=1)\n",
        "            new_sample2 = cscaler_loaded.transform(cnew_sample)\n",
        "            new_pred = cloaded_model.predict(new_sample2)\n",
        "            if new_pred.any()==1:\n",
        "                st.write('## :green[The Status is Won] ')\n",
        "            else:\n",
        "                st.write('## :red[The status is Lost] ')"
      ],
      "metadata": {
        "colab": {
          "base_uri": "https://localhost:8080/"
        },
        "id": "cRnIMC4q3w35",
        "outputId": "6344293b-ad55-4260-96b1-231d067cec9e"
      },
      "execution_count": 8,
      "outputs": [
        {
          "output_type": "stream",
          "name": "stdout",
          "text": [
            "Overwriting modelapp.py\n"
          ]
        }
      ]
    },
    {
      "cell_type": "code",
      "source": [
        "#  new_sample_ohe = t_loaded.transform(new_sample[:, [7]]).toarray()\n",
        "#             new_sample_be = s_loaded.transform(new_sample[:, [8]]).toarray()\n",
        "#             new_sample = np.concatenate((new_sample[:, [0,1,2, 3, 4, 5, 6,]], new_sample_ohe, new_sample_be), axis=1)"
      ],
      "metadata": {
        "id": "V_1Pi389jMKJ"
      },
      "execution_count": null,
      "outputs": []
    },
    {
      "cell_type": "code",
      "source": [
        "!wget -q -O - ipv4.icanhazip.com"
      ],
      "metadata": {
        "colab": {
          "base_uri": "https://localhost:8080/"
        },
        "id": "sRJttw164Ryf",
        "outputId": "0340ce3a-8898-4eb8-da9d-37499f7d06bb"
      },
      "execution_count": 9,
      "outputs": [
        {
          "output_type": "stream",
          "name": "stdout",
          "text": [
            "35.243.176.220\n"
          ]
        }
      ]
    },
    {
      "cell_type": "code",
      "source": [
        "!streamlit run modelapp.py & npx localtunnel --port 8501"
      ],
      "metadata": {
        "colab": {
          "base_uri": "https://localhost:8080/"
        },
        "id": "TNhU4pTL4Sm-",
        "outputId": "543982c4-46a9-4fa8-e91f-f15afe82e942"
      },
      "execution_count": 10,
      "outputs": [
        {
          "output_type": "stream",
          "name": "stdout",
          "text": [
            "\u001b[?25l[..................] / rollbackFailedOptional: verb npm-session af67bccc53e9fbb\u001b[0m\u001b[K\r[..................] / rollbackFailedOptional: verb npm-session af67bccc53e9fbb\u001b[0m\u001b[K\r[..................] / rollbackFailedOptional: verb npm-session af67bccc53e9fbb\u001b[0m\u001b[K\r[..................] / rollbackFailedOptional: verb npm-session af67bccc53e9fbb\u001b[0m\u001b[K\r\n",
            "Collecting usage statistics. To deactivate, set browser.gatherUsageStats to False.\n",
            "\u001b[0m\n",
            "\u001b[0m\n",
            "\u001b[34m\u001b[1m  You can now view your Streamlit app in your browser.\u001b[0m\n",
            "\u001b[0m\n",
            "\u001b[34m  Network URL: \u001b[0m\u001b[1mhttp://172.28.0.12:8501\u001b[0m\n",
            "\u001b[34m  External URL: \u001b[0m\u001b[1mhttp://35.243.176.220:8501\u001b[0m\n",
            "\u001b[0m\n",
            "\u001b[K\u001b[?25hnpx: installed 22 in 2.942s\n",
            "your url is: https://blue-ideas-hear.loca.lt\n",
            "/usr/local/lib/python3.10/dist-packages/sklearn/base.py:439: UserWarning: X does not have valid feature names, but StandardScaler was fitted with feature names\n",
            "  warnings.warn(\n",
            "/usr/local/lib/python3.10/dist-packages/sklearn/base.py:439: UserWarning: X does not have valid feature names, but StandardScaler was fitted with feature names\n",
            "  warnings.warn(\n",
            "/usr/local/lib/python3.10/dist-packages/sklearn/base.py:439: UserWarning: X does not have valid feature names, but OneHotEncoder was fitted with feature names\n",
            "  warnings.warn(\n",
            "/usr/local/lib/python3.10/dist-packages/sklearn/base.py:439: UserWarning: X does not have valid feature names, but OneHotEncoder was fitted with feature names\n",
            "  warnings.warn(\n",
            "/usr/local/lib/python3.10/dist-packages/sklearn/base.py:439: UserWarning: X does not have valid feature names, but OneHotEncoder was fitted with feature names\n",
            "  warnings.warn(\n",
            "/usr/local/lib/python3.10/dist-packages/sklearn/base.py:439: UserWarning: X does not have valid feature names, but OneHotEncoder was fitted with feature names\n",
            "  warnings.warn(\n",
            "\u001b[34m  Stopping...\u001b[0m\n",
            "^C\n"
          ]
        }
      ]
    }
  ]
}